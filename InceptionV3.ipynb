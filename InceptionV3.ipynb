{
 "cells": [
  {
   "cell_type": "code",
   "execution_count": 1,
   "id": "8fee272a",
   "metadata": {},
   "outputs": [
    {
     "name": "stdout",
     "output_type": "stream",
     "text": [
      "Init Plugin\n",
      "Init Graph Optimizer\n",
      "Init Kernel\n"
     ]
    }
   ],
   "source": [
    "import tensorflow as tf \n",
    "from tensorflow import keras\n",
    "from tensorflow.keras import layers\n",
    "from tensorflow.keras.optimizers import Adam\n",
    "from tensorflow.keras.preprocessing.image import ImageDataGenerator\n",
    "from tensorflow.keras.models import load_model\n",
    "from tensorflow.python.keras import activations\n",
    "from tensorflow.python.keras.layers.core import Dropout\n",
    "\n"
   ]
  },
  {
   "cell_type": "code",
   "execution_count": 2,
   "id": "2c2ca284",
   "metadata": {},
   "outputs": [],
   "source": [
    "train = '/Volumes/My Data/Dataset/400 Bird specis/train'\n",
    "test = '/Volumes/My Data/Dataset/400 Bird specis/test'\n",
    "validation = '/Volumes/My Data/Dataset/400 Bird specis/valid'\n",
    "image_original_shape = (224,224)\n",
    "\n"
   ]
  },
  {
   "cell_type": "code",
   "execution_count": 3,
   "id": "faf6cfdd",
   "metadata": {},
   "outputs": [
    {
     "name": "stdout",
     "output_type": "stream",
     "text": [
      "Found 58388 images belonging to 400 classes.\n",
      "Found 2000 images belonging to 400 classes.\n",
      "Found 2000 images belonging to 400 classes.\n"
     ]
    }
   ],
   "source": [
    "train_datagen = ImageDataGenerator(\n",
    "      rescale=1./255,\n",
    "      rotation_range=30,\n",
    "      width_shift_range=0.3,\n",
    "      height_shift_range=0.3,\n",
    "      horizontal_flip=True,\n",
    "      fill_mode='nearest')\n",
    "validation_test_datagen = ImageDataGenerator(rescale=1./255)\n",
    "train_data = train_datagen.flow_from_directory(\n",
    "        train,\n",
    "        target_size=image_original_shape,\n",
    "        batch_size =16,\n",
    "        class_mode='categorical',\n",
    "        shuffle=True)\n",
    "validation_data = validation_test_datagen.flow_from_directory(\n",
    "        validation,\n",
    "        target_size= image_original_shape,\n",
    "        batch_size=16,\n",
    "        class_mode='categorical',\n",
    "        shuffle=False)\n",
    "test_data = validation_test_datagen.flow_from_directory(\n",
    "        test,\n",
    "        target_size = image_original_shape,\n",
    "        batch_size=16,\n",
    "        class_mode='categorical',\n",
    "        shuffle=False)        \n",
    "\n"
   ]
  },
  {
   "cell_type": "code",
   "execution_count": null,
   "id": "2b9137a3",
   "metadata": {},
   "outputs": [],
   "source": [
    "model_custom = keras.Sequential([\n",
    "    keras.layers.Conv2D(128,(5,5), padding ='same', input_shape=(224,224,3),\n",
    "                        activation=('relu')),\n",
    "    keras.layers.Conv2D(128,(3,3), activation ='relu'),\n",
    "    keras.layers.MaxPool2D(2,2),\n",
    "    keras.layers.Dropout(0.2),\n",
    "    keras.layers.Conv2D(64,(3,3), activation =('relu')),\n",
    "    keras.layers.MaxPool2D(2,2),\n",
    "    keras.layers.Dropout(0.25),\n",
    "    keras.layers.Conv2D(64,(3,3), activation =('relu')),\n",
    "    keras.layers.MaxPool2D(2,2),\n",
    "    keras.layers.Dropout(0.2),\n",
    "    keras.layers.Conv2D(64,(3,3), activation =('relu')),\n",
    "    keras.layers.MaxPool2D(2,2),\n",
    "    keras.layers.Dropout(0.2),\n",
    "    keras.layers.Flatten(),\n",
    "#     keras.layers.Dense(512, activation='relu'),\n",
    "#     keras.layers.Dropout(0.2),\n",
    "#     keras.layers.Dense(256, activation='relu'),\n",
    "#     keras.layers.Dropout(0.2),\n",
    "#     keras.layers.Dense(128, activation='relu'),\n",
    "#     keras.layers.Dropout(0.3),\n",
    "    keras.layers.Dense(400, activation='softmax'),\n",
    "    ])\n",
    "model_custom.compile(loss = 'categorical_crossentropy',\n",
    "              optimizer = 'Adam',\n",
    "              metrics = ['accuracy'])\n",
    "\n",
    "model_custom.fit( train_data , epochs = 5, batch_size = 16, validation_data = validation_data, )"
   ]
  },
  {
   "cell_type": "code",
   "execution_count": 4,
   "id": "f7783c01",
   "metadata": {
    "scrolled": true
   },
   "outputs": [
    {
     "name": "stdout",
     "output_type": "stream",
     "text": [
      "Metal device set to: Apple M1 Pro\n"
     ]
    },
    {
     "name": "stderr",
     "output_type": "stream",
     "text": [
      "2022-02-20 11:30:14.854062: I tensorflow/core/common_runtime/pluggable_device/pluggable_device_factory.cc:305] Could not identify NUMA node of platform GPU ID 0, defaulting to 0. Your kernel may not have been built with NUMA support.\n",
      "2022-02-20 11:30:14.854452: I tensorflow/core/common_runtime/pluggable_device/pluggable_device_factory.cc:271] Created TensorFlow device (/job:localhost/replica:0/task:0/device:GPU:0 with 0 MB memory) -> physical PluggableDevice (device: 0, name: METAL, pci bus id: <undefined>)\n"
     ]
    }
   ],
   "source": [
    "from tensorflow.keras.applications.inception_v3 import InceptionV3, preprocess_input\n",
    "base_model = InceptionV3(weights='imagenet', include_top=False, input_shape=(224,224,3))\n",
    "\n",
    "x = base_model.output\n",
    "x = layers.Flatten()(x)\n",
    "predictions = layers.Dense(400, activation='softmax')(x)\n",
    "\n",
    "model = tf.keras.models.Model(inputs=base_model.input, outputs=predictions)\n",
    "#model.summary()\n",
    "\n",
    "for layer in base_model.layers:\n",
    "    layer.trainable=False\n",
    "\n",
    "\n",
    "model.compile(optimizer=Adam(),\n",
    "              loss='categorical_crossentropy',\n",
    "              metrics=['accuracy'])\n"
   ]
  },
  {
   "cell_type": "code",
   "execution_count": 11,
   "id": "4af2b788",
   "metadata": {
    "scrolled": false
   },
   "outputs": [
    {
     "name": "stdout",
     "output_type": "stream",
     "text": [
      "Epoch 1/5\n",
      "3650/3650 [==============================] - 413s 113ms/step - loss: 39.5501 - accuracy: 0.6428 - val_loss: 14.1368 - val_accuracy: 0.8110\n",
      "Epoch 2/5\n",
      "3650/3650 [==============================] - 413s 113ms/step - loss: 38.9011 - accuracy: 0.6576 - val_loss: 15.7204 - val_accuracy: 0.7980\n",
      "Epoch 3/5\n",
      "3650/3650 [==============================] - 414s 114ms/step - loss: 38.2346 - accuracy: 0.6686 - val_loss: 15.7272 - val_accuracy: 0.8125\n",
      "Epoch 4/5\n",
      "3650/3650 [==============================] - 415s 114ms/step - loss: 37.8578 - accuracy: 0.6791 - val_loss: 14.5831 - val_accuracy: 0.8365\n",
      "Epoch 5/5\n",
      "3650/3650 [==============================] - 419s 115ms/step - loss: 36.7810 - accuracy: 0.6936 - val_loss: 12.7300 - val_accuracy: 0.8480\n"
     ]
    }
   ],
   "source": [
    "history = model.fit(train_data , epochs = 5, batch_size = 16, validation_data = validation_data, )"
   ]
  },
  {
   "cell_type": "code",
   "execution_count": 12,
   "id": "1836138e",
   "metadata": {},
   "outputs": [
    {
     "data": {
      "image/png": "[encoded data removed]",
      "text/plain": [
       "<Figure size 432x288 with 1 Axes>"
      ]
     },
     "metadata": {
      "needs_background": "light"
     },
     "output_type": "display_data"
    }
   ],
   "source": [
    "import matplotlib.pyplot as plt\n",
    "plt.plot(history.history['accuracy'])\n",
    "plt.plot(history.history['val_accuracy'])\n",
    "plt.title('model accuracy')\n",
    "plt.ylabel('accuracy')\n",
    "plt.xlabel('epoch')\n",
    "plt.legend(['train', 'test'], loc='upper left')\n",
    "plt.show()"
   ]
  },
  {
   "cell_type": "code",
   "execution_count": 13,
   "id": "f378fefe",
   "metadata": {},
   "outputs": [
    {
     "data": {
      "image/png": "[encoded data removed]",
      "text/plain": [
       "<Figure size 432x288 with 1 Axes>"
      ]
     },
     "metadata": {
      "needs_background": "light"
     },
     "output_type": "display_data"
    }
   ],
   "source": [
    "# summarize history for loss\n",
    "plt.plot(history.history['loss'])\n",
    "plt.plot(history.history['val_loss'])\n",
    "plt.title('model loss')\n",
    "plt.ylabel('loss')\n",
    "plt.xlabel('epoch')\n",
    "plt.legend(['train', 'test'], loc='upper left')\n",
    "plt.show()"
   ]
  },
  {
   "cell_type": "code",
   "execution_count": null,
   "id": "15e18daf",
   "metadata": {},
   "outputs": [],
   "source": []
  }
 ],
 "metadata": {
  "kernelspec": {
   "display_name": "Python 3.9 (tensorflow)",
   "language": "python",
   "name": "tensorflow"
  },
  "language_info": {
   "codemirror_mode": {
    "name": "ipython",
    "version": 3
   },
   "file_extension": ".py",
   "mimetype": "text/x-python",
   "name": "python",
   "nbconvert_exporter": "python",
   "pygments_lexer": "ipython3",
   "version": "3.9.7"
  }
 },
 "nbformat": 4,
 "nbformat_minor": 5
}
